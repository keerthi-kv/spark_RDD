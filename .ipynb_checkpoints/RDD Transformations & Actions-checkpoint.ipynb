{
 "cells": [
  {
   "cell_type": "code",
   "execution_count": 1,
   "id": "trained-warren",
   "metadata": {},
   "outputs": [],
   "source": [
    "import os\n",
    "import sys\n",
    "import configparser\n",
    "\n",
    "configread=configparser.ConfigParser()\n",
    "configread.read(r'../config.ini')\n",
    "s_path=configread.get('spark_env','spark_env_file')\n",
    "h_path=configread.get('hadoop_pth','hadoop_pth_file')\n",
    "sp_bin=configread.get('spark_bin','spark_bin_file')\n",
    "sp_py=configread.get('spark_py','spark_py_file')\n",
    "sp_pysp=configread.get('spark_pysp','spark_pysp_file')\n",
    "sp_pylib=configread.get('spark_pylib','spark_pylib_file')\n",
    "sp_pylib_pysp=configread.get('spark_pylib_pysp','spark_pylib_pysp_file')\n",
    "sp_pylib_py4j=configread.get('spark_pylib_py4j','spark_pylib_py4j_file')\n",
    "h_bin=configread.get('hadoop_bin','hadoop_bin_file')\n",
    "charac=configread.get('input_character','character')\n",
    "play=configread.get('intput_player','player')\n",
    "\n",
    "spark_path = s_path\n",
    "hadoop_path = h_path\n",
    "os.environ['SPARK_HOME'] = spark_path\n",
    "os.environ['HADOOP_HOME'] = hadoop_path\n",
    "sys.path.append(sp_bin)\n",
    "sys.path.append(sp_py)\n",
    "sys.path.append(sp_pysp)\n",
    "sys.path.append(sp_pylib)\n",
    "sys.path.append(sp_pylib_pysp)\n",
    "sys.path.append(sp_pylib_py4j)\n",
    "sys.path.append(h_bin)"
   ]
  },
  {
   "cell_type": "code",
   "execution_count": 50,
   "id": "pressed-ceiling",
   "metadata": {},
   "outputs": [],
   "source": [
    "from pyspark import SparkConf, SparkContext\n",
    "from pyspark.sql import SparkSession"
   ]
  },
  {
   "cell_type": "code",
   "execution_count": 51,
   "id": "dried-boston",
   "metadata": {
    "tags": []
   },
   "outputs": [],
   "source": [
    "conf=SparkConf().setAppName(\"sql_number_functions_using_RDDs\").setMaster('local[4]')\n",
    "spark=SparkSession.builder.appName('sql_number_functions_using_RDDs').master('local[4]').config(\"spark.some.config.option\", \"some-value\").getOrCreate()"
   ]
  },
  {
   "cell_type": "code",
   "execution_count": 53,
   "id": "framed-tackle",
   "metadata": {},
   "outputs": [],
   "source": [
    "sc=spark.sparkContext"
   ]
  },
  {
   "cell_type": "code",
   "execution_count": 54,
   "id": "impressive-carpet",
   "metadata": {},
   "outputs": [],
   "source": [
    "c=sc.textFile(charac,3)\n",
    "p=sc.textFile(play,3)"
   ]
  },
  {
   "cell_type": "code",
   "execution_count": 55,
   "id": "a508b55a-b717-4901-8c58-6d14091aa3af",
   "metadata": {},
   "outputs": [
    {
     "data": {
      "text/plain": [
       "['id,player_id,name,level,class,account_balance,hp,mp,strength,wisdom,stat_modifier,weight,height',\n",
       " '1,1,Kav,3,wizard,899.34,100,200,12,20,1.05,65,1.72',\n",
       " '2,2,Gniok,5,warrior,423.83,170,80,20,23,4.57,101.4,2',\n",
       " '3,1,Mnah,2,warrior,0.00,140,60,16,20,-1.00,80.300003,1.9299999',\n",
       " '4,2,Balryll,1,warrior,723.12,130,50,15,0,2.89,78.900002,1.87',\n",
       " '5,3,Mnadjaid,13,wizard,4321.93,171,37,86,-4,61.0358,1.67,null',\n",
       " '6,4,Duroso,24,wizard,7231.32,240,890,45,104,17.18,0.2,1',\n",
       " '7,5,Rolamar,3,warrior,753.42,150,65,18,21,-29.99,91.300003,1.85',\n",
       " '8,5,Avealath,7,warrior,1023.00,190,95,28,29,17.44,95.199997,1.9']"
      ]
     },
     "execution_count": 55,
     "metadata": {},
     "output_type": "execute_result"
    }
   ],
   "source": [
    "c.collect()"
   ]
  },
  {
   "cell_type": "code",
   "execution_count": 56,
   "id": "52412351-337b-4596-84e6-9a409e2f4c64",
   "metadata": {},
   "outputs": [
    {
     "data": {
      "text/plain": [
       "['id,firstname,lastname',\n",
       " '1,Alan,Gilman',\n",
       " '2,Kate,Friss',\n",
       " '3,Anne,Birch',\n",
       " '4,Adrian,Regos',\n",
       " '5,Stephen,Colvin']"
      ]
     },
     "execution_count": 56,
     "metadata": {},
     "output_type": "execute_result"
    }
   ],
   "source": [
    "p.collect()"
   ]
  },
  {
   "cell_type": "code",
   "execution_count": 57,
   "id": "ff5b3883-1f25-4671-95b0-c25414151c0a",
   "metadata": {},
   "outputs": [],
   "source": [
    "c1=c.map(lambda x:x.split(','))\n",
    "p1=p.map(lambda x:x.split(','))\n",
    "h1=c1.first()\n",
    "h2=p1.first()\n",
    "c1=c1.filter(lambda x:x!=h1)\n",
    "p1=p1.filter(lambda x:x!=h2)"
   ]
  },
  {
   "cell_type": "code",
   "execution_count": 58,
   "id": "c5322dd8-02c9-4c35-b601-85b3fff7bca7",
   "metadata": {},
   "outputs": [],
   "source": [
    "# For each character, show its name, its account_balance and its account_balance rounded to the nearest integer (name this column rounded_account_balance). \n",
    "#Notice how mathematical rounding is applied.\n",
    "\n",
    "# USING RDD"
   ]
  },
  {
   "cell_type": "code",
   "execution_count": 86,
   "id": "4cc8c5c0-c0e8-4e1c-8baf-fd60cafa85ac",
   "metadata": {},
   "outputs": [
    {
     "data": {
      "text/plain": [
       "[('Kav', 899.34, 899),\n",
       " ('Gniok', 423.83, 424),\n",
       " ('Mnah', 0.0, 0),\n",
       " ('Balryll', 723.12, 723),\n",
       " ('Mnadjaid', 4321.93, 4322),\n",
       " ('Duroso', 7231.32, 7231),\n",
       " ('Rolamar', 753.42, 753),\n",
       " ('Avealath', 1023.0, 1023)]"
      ]
     },
     "execution_count": 86,
     "metadata": {},
     "output_type": "execute_result"
    }
   ],
   "source": [
    "c1.map(lambda x:(x[2],float(x[5]),round(float(x[5])))).collect()"
   ]
  },
  {
   "cell_type": "code",
   "execution_count": 87,
   "id": "8a0a34ba-0f59-4b2a-b75c-73d40cc6eccf",
   "metadata": {},
   "outputs": [
    {
     "data": {
      "text/plain": [
       "[('Kav', 899.34, 899.3),\n",
       " ('Gniok', 423.83, 423.8),\n",
       " ('Mnah', 0.0, 0.0),\n",
       " ('Balryll', 723.12, 723.1),\n",
       " ('Mnadjaid', 4321.93, 4321.9),\n",
       " ('Duroso', 7231.32, 7231.3),\n",
       " ('Rolamar', 753.42, 753.4),\n",
       " ('Avealath', 1023.0, 1023.0)]"
      ]
     },
     "execution_count": 87,
     "metadata": {},
     "output_type": "execute_result"
    }
   ],
   "source": [
    "# round with precision 1\n",
    "\n",
    "c1.map(lambda x:(x[2],float(x[5]),round(float(x[5]),1))).collect()"
   ]
  },
  {
   "cell_type": "code",
   "execution_count": 60,
   "id": "494f9194-66d9-47b5-9970-a8bad4fa034b",
   "metadata": {},
   "outputs": [],
   "source": [
    "# USING DATAFRAME"
   ]
  },
  {
   "cell_type": "code",
   "execution_count": 77,
   "id": "d28d1202-052b-4f2e-ab00-17472b7c4a3a",
   "metadata": {},
   "outputs": [],
   "source": [
    "cdf=spark.read.format('csv').option('delimiter',',').option('header',True).option('inferschema',True).load(charac)\n",
    "pdf=spark.read.format('csv').option('delimiter',',').option('header',True).option('inferschema',True).load(play)"
   ]
  },
  {
   "cell_type": "code",
   "execution_count": 78,
   "id": "01fbb589-dac6-47a3-9e1b-0b798b8ca504",
   "metadata": {},
   "outputs": [
    {
     "name": "stdout",
     "output_type": "stream",
     "text": [
      "+---+---------+--------+-----+-------+---------------+---+---+--------+------+-------------+---------+---------+\n",
      "|id |player_id|name    |level|class  |account_balance|hp |mp |strength|wisdom|stat_modifier|weight   |height   |\n",
      "+---+---------+--------+-----+-------+---------------+---+---+--------+------+-------------+---------+---------+\n",
      "|1  |1        |Kav     |3    |wizard |899.34         |100|200|12      |20    |1.05         |65.0     |1.72     |\n",
      "|2  |2        |Gniok   |5    |warrior|423.83         |170|80 |20      |23    |4.57         |101.4    |2        |\n",
      "|3  |1        |Mnah    |2    |warrior|0.0            |140|60 |16      |20    |-1.0         |80.300003|1.9299999|\n",
      "|4  |2        |Balryll |1    |warrior|723.12         |130|50 |15      |0     |2.89         |78.900002|1.87     |\n",
      "|5  |3        |Mnadjaid|13   |wizard |4321.93        |171|37 |86      |-4    |61.0358      |1.67     |null     |\n",
      "|6  |4        |Duroso  |24   |wizard |7231.32        |240|890|45      |104   |17.18        |0.2      |1        |\n",
      "|7  |5        |Rolamar |3    |warrior|753.42         |150|65 |18      |21    |-29.99       |91.300003|1.85     |\n",
      "|8  |5        |Avealath|7    |warrior|1023.0         |190|95 |28      |29    |17.44        |95.199997|1.9      |\n",
      "+---+---------+--------+-----+-------+---------------+---+---+--------+------+-------------+---------+---------+\n",
      "\n",
      "+---+---------+--------+\n",
      "|id |firstname|lastname|\n",
      "+---+---------+--------+\n",
      "|1  |Alan     |Gilman  |\n",
      "|2  |Kate     |Friss   |\n",
      "|3  |Anne     |Birch   |\n",
      "|4  |Adrian   |Regos   |\n",
      "|5  |Stephen  |Colvin  |\n",
      "+---+---------+--------+\n",
      "\n"
     ]
    }
   ],
   "source": [
    "cdf.show(truncate=False)\n",
    "pdf.show(truncate=False)"
   ]
  },
  {
   "cell_type": "code",
   "execution_count": 83,
   "id": "fa4b0bff-e08a-40ac-9997-9fd9594fa16f",
   "metadata": {},
   "outputs": [
    {
     "name": "stdout",
     "output_type": "stream",
     "text": [
      "+--------+---------------+-----------------------+\n",
      "|    name|account_balance|rounded_account_balance|\n",
      "+--------+---------------+-----------------------+\n",
      "|     Kav|         899.34|                  899.0|\n",
      "|   Gniok|         423.83|                  424.0|\n",
      "|    Mnah|            0.0|                    0.0|\n",
      "| Balryll|         723.12|                  723.0|\n",
      "|Mnadjaid|        4321.93|                 4322.0|\n",
      "|  Duroso|        7231.32|                 7231.0|\n",
      "| Rolamar|         753.42|                  753.0|\n",
      "|Avealath|         1023.0|                 1023.0|\n",
      "+--------+---------------+-----------------------+\n",
      "\n"
     ]
    }
   ],
   "source": [
    "import pyspark.sql.functions as f\n",
    "cdf.select(cdf['name'],cdf['account_balance'],f.round(cdf['account_balance']).alias('rounded_account_balance')).show()"
   ]
  },
  {
   "cell_type": "code",
   "execution_count": 89,
   "id": "f827af87-025e-42e1-a42b-1da276677adf",
   "metadata": {},
   "outputs": [
    {
     "name": "stdout",
     "output_type": "stream",
     "text": [
      "+--------+---------------+-----------------------+\n",
      "|    name|account_balance|rounded_account_balance|\n",
      "+--------+---------------+-----------------------+\n",
      "|     Kav|         899.34|                  899.3|\n",
      "|   Gniok|         423.83|                  423.8|\n",
      "|    Mnah|            0.0|                    0.0|\n",
      "| Balryll|         723.12|                  723.1|\n",
      "|Mnadjaid|        4321.93|                 4321.9|\n",
      "|  Duroso|        7231.32|                 7231.3|\n",
      "| Rolamar|         753.42|                  753.4|\n",
      "|Avealath|         1023.0|                 1023.0|\n",
      "+--------+---------------+-----------------------+\n",
      "\n"
     ]
    }
   ],
   "source": [
    "# round with precision 1\n",
    "\n",
    "cdf.select(cdf['name'],cdf['account_balance'],f.round(cdf['account_balance'],1).alias('rounded_account_balance')).show()"
   ]
  }
 ],
 "metadata": {
  "kernelspec": {
   "display_name": "Python 3",
   "language": "python",
   "name": "python3"
  },
  "language_info": {
   "codemirror_mode": {
    "name": "ipython",
    "version": 3
   },
   "file_extension": ".py",
   "mimetype": "text/x-python",
   "name": "python",
   "nbconvert_exporter": "python",
   "pygments_lexer": "ipython3",
   "version": "3.7.8"
  },
  "toc-showcode": false
 },
 "nbformat": 4,
 "nbformat_minor": 5
}

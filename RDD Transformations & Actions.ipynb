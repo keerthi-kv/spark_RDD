{
 "cells": [
  {
   "cell_type": "code",
   "execution_count": 4,
   "id": "trained-warren",
   "metadata": {},
   "outputs": [],
   "source": [
    "import os\n",
    "import sys\n",
    "import configparser\n",
    "\n",
    "configread=configparser.ConfigParser()\n",
    "configread.read(r'../config.ini')\n",
    "s_path=configread.get('spark_env','spark_env_file')\n",
    "h_path=configread.get('hadoop_pth','hadoop_pth_file')\n",
    "sp_bin=configread.get('spark_bin','spark_bin_file')\n",
    "sp_py=configread.get('spark_py','spark_py_file')\n",
    "sp_pysp=configread.get('spark_pysp','spark_pysp_file')\n",
    "sp_pylib=configread.get('spark_pylib','spark_pylib_file')\n",
    "sp_pylib_pysp=configread.get('spark_pylib_pysp','spark_pylib_pysp_file')\n",
    "sp_pylib_py4j=configread.get('spark_pylib_py4j','spark_pylib_py4j_file')\n",
    "h_bin=configread.get('hadoop_bin','hadoop_bin_file')\n",
    "input_file=configread.get('intput_path','input_file')\n",
    "\n",
    "spark_path = s_path\n",
    "hadoop_path = h_path\n",
    "os.environ['SPARK_HOME'] = spark_path\n",
    "os.environ['HADOOP_HOME'] = hadoop_path\n",
    "sys.path.append(sp_bin)\n",
    "sys.path.append(sp_py)\n",
    "sys.path.append(sp_pysp)\n",
    "sys.path.append(sp_pylib)\n",
    "sys.path.append(sp_pylib_pysp)\n",
    "sys.path.append(sp_pylib_py4j)\n",
    "sys.path.append(h_bin)"
   ]
  },
  {
   "cell_type": "code",
   "execution_count": 5,
   "id": "pressed-ceiling",
   "metadata": {},
   "outputs": [],
   "source": [
    "from pyspark import SparkConf, SparkContext"
   ]
  },
  {
   "cell_type": "code",
   "execution_count": 6,
   "id": "dried-boston",
   "metadata": {
    "tags": []
   },
   "outputs": [],
   "source": [
    "conf=SparkConf().setAppName(\"Transformation_Actions\").setMaster('local[4]')"
   ]
  },
  {
   "cell_type": "code",
   "execution_count": 7,
   "id": "framed-tackle",
   "metadata": {},
   "outputs": [],
   "source": [
    "sc=SparkContext(conf=conf)"
   ]
  },
  {
   "cell_type": "code",
   "execution_count": 8,
   "id": "impressive-carpet",
   "metadata": {},
   "outputs": [],
   "source": [
    "r=sc.textFile(input_file,3)"
   ]
  },
  {
   "cell_type": "code",
   "execution_count": 9,
   "id": "approximate-region",
   "metadata": {},
   "outputs": [],
   "source": [
    "def show(iterator): yield list(iterator)"
   ]
  },
  {
   "cell_type": "code",
   "execution_count": 10,
   "id": "wound-sunday",
   "metadata": {},
   "outputs": [],
   "source": [
    "r1=r.map(lambda x:x.split(','))"
   ]
  },
  {
   "cell_type": "code",
   "execution_count": 11,
   "id": "educational-attachment",
   "metadata": {},
   "outputs": [],
   "source": [
    "h=r1.first()"
   ]
  },
  {
   "cell_type": "code",
   "execution_count": 12,
   "id": "final-homeless",
   "metadata": {},
   "outputs": [
    {
     "data": {
      "text/plain": [
       "[[['V Kohli',\n",
       "   '5426',\n",
       "   '152',\n",
       "   '4111',\n",
       "   '35.69736842105263',\n",
       "   '131.98735100948676'],\n",
       "  ['SK Raina', '5386', '160', '3916', '33.6625', '137.53830439223697'],\n",
       "  ['RG Sharma',\n",
       "   '4902',\n",
       "   '161',\n",
       "   '3742',\n",
       "   '30.4472049689441',\n",
       "   '130.99946552645645']],\n",
       " [['DA Warner',\n",
       "   '4717',\n",
       "   '114',\n",
       "   '3292',\n",
       "   '41.37719298245614',\n",
       "   '143.28675577156744'],\n",
       "  ['S Dhawan',\n",
       "   '4601',\n",
       "   '137',\n",
       "   '3665',\n",
       "   '33.583941605839414',\n",
       "   '125.53888130968622'],\n",
       "  ['CH Gayle',\n",
       "   '4525',\n",
       "   '110',\n",
       "   '2972',\n",
       "   '41.13636363636363',\n",
       "   '152.2543741588156']],\n",
       " [['MS Dhoni',\n",
       "   '4450',\n",
       "   '118',\n",
       "   '3206',\n",
       "   '37.71186440677966',\n",
       "   '138.80224578914536'],\n",
       "  ['RV Uthappa',\n",
       "   '4420',\n",
       "   '156',\n",
       "   '3381',\n",
       "   '28.333333333333332',\n",
       "   '130.73055309080155'],\n",
       "  ['AB de Villiers',\n",
       "   '4414',\n",
       "   '104',\n",
       "   '2902',\n",
       "   '42.44230769230769',\n",
       "   '152.10199862164023']]]"
      ]
     },
     "execution_count": 12,
     "metadata": {},
     "output_type": "execute_result"
    }
   ],
   "source": [
    "r1.filter(lambda x:x!=h).mapPartitions(show).collect()"
   ]
  },
  {
   "cell_type": "code",
   "execution_count": 13,
   "id": "confirmed-techno",
   "metadata": {},
   "outputs": [],
   "source": [
    "rd=sc.parallelize([(1,2),(3,4),(5,6),(7,8)],3)"
   ]
  },
  {
   "cell_type": "code",
   "execution_count": 14,
   "id": "chemical-mouse",
   "metadata": {},
   "outputs": [],
   "source": [
    "def func(iterator):\n",
    "    for i in iterator:\n",
    "        print(i)\n",
    "    print('----')"
   ]
  },
  {
   "cell_type": "code",
   "execution_count": 15,
   "id": "defined-angola",
   "metadata": {},
   "outputs": [],
   "source": [
    "rd.foreachPartition(func)"
   ]
  },
  {
   "cell_type": "code",
   "execution_count": 16,
   "id": "large-external",
   "metadata": {},
   "outputs": [
    {
     "data": {
      "text/plain": [
       "3"
      ]
     },
     "execution_count": 16,
     "metadata": {},
     "output_type": "execute_result"
    }
   ],
   "source": [
    "rd.getNumPartitions()"
   ]
  },
  {
   "cell_type": "code",
   "execution_count": 17,
   "id": "effective-humanity",
   "metadata": {},
   "outputs": [],
   "source": [
    "def ifunc(iterator):\n",
    "    yield lambda x:x.split(',')"
   ]
  },
  {
   "cell_type": "code",
   "execution_count": null,
   "id": "dental-imperial",
   "metadata": {},
   "outputs": [],
   "source": [
    "rd.mapPartitions(ifunc).collect()"
   ]
  },
  {
   "cell_type": "code",
   "execution_count": null,
   "id": "derived-thesaurus",
   "metadata": {},
   "outputs": [],
   "source": [
    "sum([1,2,3,4])"
   ]
  },
  {
   "cell_type": "code",
   "execution_count": null,
   "id": "exposed-disorder",
   "metadata": {},
   "outputs": [],
   "source": [
    "parallel = sc.parallelize([(1,2),(3,4),(5,6),(7,8)],3)"
   ]
  },
  {
   "cell_type": "code",
   "execution_count": null,
   "id": "concerned-tactics",
   "metadata": {},
   "outputs": [],
   "source": [
    "def show(iterator): yield list(iterator)"
   ]
  },
  {
   "cell_type": "code",
   "execution_count": null,
   "id": "silent-conducting",
   "metadata": {},
   "outputs": [],
   "source": [
    "parallel.mapPartitions(show).collect()"
   ]
  },
  {
   "cell_type": "code",
   "execution_count": null,
   "id": "alleged-quilt",
   "metadata": {},
   "outputs": [],
   "source": [
    "b='ssadda dfafda dada adada adada aDAD'.split(' ')"
   ]
  },
  {
   "cell_type": "code",
   "execution_count": null,
   "id": "working-gamma",
   "metadata": {},
   "outputs": [],
   "source": [
    "b1=sc.parallelize(b,2)"
   ]
  },
  {
   "cell_type": "code",
   "execution_count": null,
   "id": "practical-estate",
   "metadata": {},
   "outputs": [],
   "source": [
    "sd={\"spark\":100,\"sqoop\":200,\"big\":300,\"simple\":400}"
   ]
  },
  {
   "cell_type": "code",
   "execution_count": null,
   "id": "reserved-importance",
   "metadata": {},
   "outputs": [],
   "source": [
    "sb=sc.broadcast(sd)"
   ]
  },
  {
   "cell_type": "code",
   "execution_count": null,
   "id": "stock-seeking",
   "metadata": {},
   "outputs": [],
   "source": [
    "sb.value"
   ]
  },
  {
   "cell_type": "code",
   "execution_count": null,
   "id": "color-collect",
   "metadata": {},
   "outputs": [],
   "source": [
    "b1.map(lambda x:(x,sb.value.get(x,0))).sortBy(lambda x:x[1]).collect()"
   ]
  }
 ],
 "metadata": {
  "kernelspec": {
   "display_name": "Python 3",
   "language": "python",
   "name": "python3"
  },
  "language_info": {
   "codemirror_mode": {
    "name": "ipython",
    "version": 3
   },
   "file_extension": ".py",
   "mimetype": "text/x-python",
   "name": "python",
   "nbconvert_exporter": "python",
   "pygments_lexer": "ipython3",
   "version": "3.7.8"
  },
  "toc-showcode": false
 },
 "nbformat": 4,
 "nbformat_minor": 5
}

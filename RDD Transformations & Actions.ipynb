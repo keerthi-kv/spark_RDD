{
 "cells": [
  {
   "cell_type": "code",
   "execution_count": 9,
   "id": "trained-warren",
   "metadata": {},
   "outputs": [],
   "source": [
    "import os\n",
    "import sys\n",
    "import configparser\n",
    "\n",
    "configread=configparser.ConfigParser()\n",
    "configread.read(r'../OneDrive/Documents/GitHub/config.ini')\n",
    "s_path=configread.get('spark_env','spark_env_file')\n",
    "h_path=configread.get('hadoop_pth','hadoop_pth_file')\n",
    "sp_bin=configread.get('spark_bin','spark_bin_file')\n",
    "sp_py=configread.get('spark_py','spark_py_file')\n",
    "sp_pysp=configread.get('spark_pysp','spark_pysp_file')\n",
    "sp_pylib=configread.get('spark_pylib','spark_pylib_file')\n",
    "sp_pylib_pysp=configread.get('spark_pylib_pysp','spark_pylib_pysp_file')\n",
    "sp_pylib_py4j=configread.get('spark_pylib_py4j','spark_pylib_py4j_file')\n",
    "h_bin=configread.get('hadoop_bin','hadoop_bin_file')\n",
    "\n",
    "\n",
    "spark_path = s_path\n",
    "hadoop_path = h_path\n",
    "os.environ['SPARK_HOME'] = spark_path\n",
    "os.environ['HADOOP_HOME'] = hadoop_path\n",
    "sys.path.append(sp_bin)\n",
    "sys.path.append(sp_py)\n",
    "sys.path.append(sp_pysp)\n",
    "sys.path.append(sp_pylib)\n",
    "sys.path.append(sp_pylib_pysp)\n",
    "sys.path.append(sp_pylib_py4j)\n",
    "sys.path.append(h_bin)"
   ]
  },
  {
   "cell_type": "code",
   "execution_count": null,
   "id": "03cf5ac3-0721-4e7a-815f-cce29f39088a",
   "metadata": {},
   "outputs": [],
   "source": []
  },
  {
   "cell_type": "code",
   "execution_count": null,
   "id": "195ee7be-1e27-4edc-b68a-e082440a03cb",
   "metadata": {},
   "outputs": [],
   "source": []
  },
  {
   "cell_type": "code",
   "execution_count": null,
   "id": "947c3472-fbae-4466-9248-87d1f8408d3d",
   "metadata": {},
   "outputs": [],
   "source": [
    "from pyspark.sql import SparkSession"
   ]
  },
  {
   "cell_type": "code",
   "execution_count": null,
   "id": "d87282e0-c23f-427e-8226-8197b683a741",
   "metadata": {},
   "outputs": [],
   "source": []
  },
  {
   "cell_type": "code",
   "execution_count": null,
   "id": "777b8bdf-8e38-4c8f-b817-7870a0681a98",
   "metadata": {},
   "outputs": [],
   "source": []
  },
  {
   "cell_type": "code",
   "execution_count": 3,
   "id": "pressed-ceiling",
   "metadata": {},
   "outputs": [],
   "source": [
    "from pyspark import SparkConf, SparkContext"
   ]
  },
  {
   "cell_type": "code",
   "execution_count": 4,
   "id": "dried-boston",
   "metadata": {
    "tags": []
   },
   "outputs": [],
   "source": [
    "conf=SparkConf().setAppName(\"Transformation_Actions\").setMaster('local[4]')"
   ]
  },
  {
   "cell_type": "code",
   "execution_count": 5,
   "id": "framed-tackle",
   "metadata": {},
   "outputs": [],
   "source": [
    "sc=SparkContext(conf=conf)"
   ]
  },
  {
   "cell_type": "code",
   "execution_count": 46,
   "id": "impressive-carpet",
   "metadata": {},
   "outputs": [],
   "source": [
    "r=sc.textFile('E://spark_workouts/IPL_data/most_runs_average_strikerate.csv',3)"
   ]
  },
  {
   "cell_type": "code",
   "execution_count": 53,
   "id": "approximate-region",
   "metadata": {},
   "outputs": [],
   "source": [
    "def show(iterator): yield list(iterator)"
   ]
  },
  {
   "cell_type": "code",
   "execution_count": 1,
   "id": "wound-sunday",
   "metadata": {},
   "outputs": [
    {
     "ename": "NameError",
     "evalue": "name 'r' is not defined",
     "output_type": "error",
     "traceback": [
      "\u001b[1;31m---------------------------------------------------------------------------\u001b[0m",
      "\u001b[1;31mNameError\u001b[0m                                 Traceback (most recent call last)",
      "\u001b[1;32m<ipython-input-1-4c7c618ea180>\u001b[0m in \u001b[0;36m<module>\u001b[1;34m\u001b[0m\n\u001b[1;32m----> 1\u001b[1;33m \u001b[0mr1\u001b[0m\u001b[1;33m=\u001b[0m\u001b[0mr\u001b[0m\u001b[1;33m.\u001b[0m\u001b[0mmap\u001b[0m\u001b[1;33m(\u001b[0m\u001b[1;32mlambda\u001b[0m \u001b[0mx\u001b[0m\u001b[1;33m:\u001b[0m\u001b[0mx\u001b[0m\u001b[1;33m.\u001b[0m\u001b[0msplit\u001b[0m\u001b[1;33m(\u001b[0m\u001b[1;34m','\u001b[0m\u001b[1;33m)\u001b[0m\u001b[1;33m)\u001b[0m\u001b[1;33m\u001b[0m\u001b[1;33m\u001b[0m\u001b[0m\n\u001b[0m\u001b[0;32m      2\u001b[0m \u001b[1;31m#hi\u001b[0m\u001b[1;33m\u001b[0m\u001b[1;33m\u001b[0m\u001b[1;33m\u001b[0m\u001b[0m\n",
      "\u001b[1;31mNameError\u001b[0m: name 'r' is not defined"
     ]
    }
   ],
   "source": [
    "r1=r.map(lambda x:x.split(','))\n",
    "#hi"
   ]
  },
  {
   "cell_type": "code",
   "execution_count": 74,
   "id": "educational-attachment",
   "metadata": {},
   "outputs": [],
   "source": [
    "h=r1.first()"
   ]
  },
  {
   "cell_type": "code",
   "execution_count": 80,
   "id": "final-homeless",
   "metadata": {},
   "outputs": [
    {
     "data": {
      "text/plain": [
       "[[['V Kohli',\n",
       "   '5426',\n",
       "   '152',\n",
       "   '4111',\n",
       "   '35.69736842105263',\n",
       "   '131.98735100948676'],\n",
       "  ['SK Raina', '5386', '160', '3916', '33.6625', '137.53830439223697'],\n",
       "  ['RG Sharma',\n",
       "   '4902',\n",
       "   '161',\n",
       "   '3742',\n",
       "   '30.4472049689441',\n",
       "   '130.99946552645645']],\n",
       " [['DA Warner',\n",
       "   '4717',\n",
       "   '114',\n",
       "   '3292',\n",
       "   '41.37719298245614',\n",
       "   '143.28675577156744'],\n",
       "  ['S Dhawan',\n",
       "   '4601',\n",
       "   '137',\n",
       "   '3665',\n",
       "   '33.583941605839414',\n",
       "   '125.53888130968622'],\n",
       "  ['CH Gayle',\n",
       "   '4525',\n",
       "   '110',\n",
       "   '2972',\n",
       "   '41.13636363636363',\n",
       "   '152.2543741588156']],\n",
       " [['MS Dhoni',\n",
       "   '4450',\n",
       "   '118',\n",
       "   '3206',\n",
       "   '37.71186440677966',\n",
       "   '138.80224578914536'],\n",
       "  ['RV Uthappa',\n",
       "   '4420',\n",
       "   '156',\n",
       "   '3381',\n",
       "   '28.333333333333332',\n",
       "   '130.73055309080155'],\n",
       "  ['AB de Villiers',\n",
       "   '4414',\n",
       "   '104',\n",
       "   '2902',\n",
       "   '42.44230769230769',\n",
       "   '152.10199862164023']]]"
      ]
     },
     "execution_count": 80,
     "metadata": {},
     "output_type": "execute_result"
    }
   ],
   "source": [
    "r1.filter(lambda x:x!=h).mapPartitions(show).collect()"
   ]
  },
  {
   "cell_type": "code",
   "execution_count": 7,
   "id": "confirmed-techno",
   "metadata": {},
   "outputs": [],
   "source": [
    "rd=sc.parallelize([(1,2),(3,4),(5,6),(7,8)],3)"
   ]
  },
  {
   "cell_type": "code",
   "execution_count": 8,
   "id": "chemical-mouse",
   "metadata": {},
   "outputs": [],
   "source": [
    "def func(iterator):\n",
    "    for i in iterator:\n",
    "        print(i)\n",
    "    print('----')"
   ]
  },
  {
   "cell_type": "code",
   "execution_count": 9,
   "id": "defined-angola",
   "metadata": {},
   "outputs": [],
   "source": [
    "rd.foreachPartition(func)"
   ]
  },
  {
   "cell_type": "code",
   "execution_count": 10,
   "id": "large-external",
   "metadata": {},
   "outputs": [
    {
     "data": {
      "text/plain": [
       "3"
      ]
     },
     "execution_count": 10,
     "metadata": {},
     "output_type": "execute_result"
    }
   ],
   "source": [
    "rd.getNumPartitions()"
   ]
  },
  {
   "cell_type": "code",
   "execution_count": 16,
   "id": "effective-humanity",
   "metadata": {},
   "outputs": [],
   "source": [
    "def ifunc(iterator):\n",
    "    yield lambda x:x.split(',')"
   ]
  },
  {
   "cell_type": "code",
   "execution_count": null,
   "id": "dental-imperial",
   "metadata": {},
   "outputs": [],
   "source": [
    "rd.mapPartitions(ifunc).collect()"
   ]
  },
  {
   "cell_type": "code",
   "execution_count": 13,
   "id": "derived-thesaurus",
   "metadata": {},
   "outputs": [
    {
     "data": {
      "text/plain": [
       "10"
      ]
     },
     "execution_count": 13,
     "metadata": {},
     "output_type": "execute_result"
    }
   ],
   "source": [
    "sum([1,2,3,4])"
   ]
  },
  {
   "cell_type": "code",
   "execution_count": 39,
   "id": "exposed-disorder",
   "metadata": {},
   "outputs": [],
   "source": [
    "parallel = sc.parallelize([(1,2),(3,4),(5,6),(7,8)],3)"
   ]
  },
  {
   "cell_type": "code",
   "execution_count": 44,
   "id": "concerned-tactics",
   "metadata": {},
   "outputs": [],
   "source": [
    "def show(iterator): yield list(iterator)"
   ]
  },
  {
   "cell_type": "code",
   "execution_count": 45,
   "id": "silent-conducting",
   "metadata": {},
   "outputs": [
    {
     "data": {
      "text/plain": [
       "[[(1, 2)], [(3, 4)], [(5, 6), (7, 8)]]"
      ]
     },
     "execution_count": 45,
     "metadata": {},
     "output_type": "execute_result"
    }
   ],
   "source": [
    "parallel.mapPartitions(show).collect()"
   ]
  },
  {
   "cell_type": "code",
   "execution_count": 81,
   "id": "alleged-quilt",
   "metadata": {},
   "outputs": [],
   "source": [
    "b='ssadda dfafda dada adada adada aDAD'.split(' ')"
   ]
  },
  {
   "cell_type": "code",
   "execution_count": 82,
   "id": "working-gamma",
   "metadata": {},
   "outputs": [],
   "source": [
    "b1=sc.parallelize(b,2)"
   ]
  },
  {
   "cell_type": "code",
   "execution_count": 85,
   "id": "practical-estate",
   "metadata": {},
   "outputs": [],
   "source": [
    "sd={\"spark\":100,\"sqoop\":200,\"big\":300,\"simple\":400}"
   ]
  },
  {
   "cell_type": "code",
   "execution_count": 97,
   "id": "reserved-importance",
   "metadata": {},
   "outputs": [],
   "source": [
    "sb=sc.broadcast(sd)"
   ]
  },
  {
   "cell_type": "code",
   "execution_count": 100,
   "id": "stock-seeking",
   "metadata": {},
   "outputs": [
    {
     "data": {
      "text/plain": [
       "{'spark': 100, 'sqoop': 200, 'big': 300, 'simple': 400}"
      ]
     },
     "execution_count": 100,
     "metadata": {},
     "output_type": "execute_result"
    }
   ],
   "source": [
    "sb.value"
   ]
  },
  {
   "cell_type": "code",
   "execution_count": 103,
   "id": "color-collect",
   "metadata": {},
   "outputs": [
    {
     "data": {
      "text/plain": [
       "[('ssadda', 0),\n",
       " ('dfafda', 0),\n",
       " ('dada', 0),\n",
       " ('adada', 0),\n",
       " ('adada', 0),\n",
       " ('aDAD', 0)]"
      ]
     },
     "execution_count": 103,
     "metadata": {},
     "output_type": "execute_result"
    }
   ],
   "source": [
    "b1.map(lambda x:(x,sb.value.get(x,0))).sortBy(lambda x:x[1]).collect()"
   ]
  },
  {
   "cell_type": "code",
   "execution_count": 101,
   "id": "sixth-peninsula",
   "metadata": {},
   "outputs": [
    {
     "data": {
      "text/plain": [
       "{'spark': 100, 'sqoop': 200, 'big': 300, 'simple': 400}"
      ]
     },
     "execution_count": 101,
     "metadata": {},
     "output_type": "execute_result"
    }
   ],
   "source": []
  }
 ],
 "metadata": {
  "kernelspec": {
   "display_name": "Python 3",
   "language": "python",
   "name": "python3"
  },
  "language_info": {
   "codemirror_mode": {
    "name": "ipython",
    "version": 3
   },
   "file_extension": ".py",
   "mimetype": "text/x-python",
   "name": "python",
   "nbconvert_exporter": "python",
   "pygments_lexer": "ipython3",
   "version": "3.7.8"
  },
  "toc-showcode": false
 },
 "nbformat": 4,
 "nbformat_minor": 5
}
